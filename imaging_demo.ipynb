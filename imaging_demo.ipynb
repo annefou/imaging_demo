{
 "cells": [
  {
   "cell_type": "markdown",
   "id": "c13f0ddc-fbfb-4871-9284-082746e632c0",
   "metadata": {},
   "source": [
    "---\n",
    "title: # Introduction to Image Analysis using Galaxy\n",
    "subtitle: Learn how to use Jupyter Notebook in Galaxy to perform image analysis\n",
    "authors:\n",
    "  - name: Anne Fouilloux\n",
    "    orcid: 0000-0002-1784-2920\n",
    "    github: annefou\n",
    "    affiliations:\n",
    "      - id: Simula Research Laboratory\n",
    "        institution: Simula Research Laboratory\n",
    "        ror: 00vn06n10\n",
    "date: 2025-02-16\n",
    "thumbnail: \n",
    "keywords : image analysis\n",
    "releaseDate: 2025-02-16\n",
    "datePublished: 2025-02-16\n",
    "dateModified: 2025-02-16\n",
    "---"
   ]
  },
  {
   "cell_type": "markdown",
   "id": "9f59efc0-0b70-484c-847b-15dac69b37bd",
   "metadata": {},
   "source": [
    "## Install required packages"
   ]
  },
  {
   "cell_type": "code",
   "execution_count": null,
   "id": "6174e601-cf6f-450d-8836-f09b870f632b",
   "metadata": {},
   "outputs": [],
   "source": [
    "pip install pooch scikit-image matplotlib"
   ]
  },
  {
   "cell_type": "markdown",
   "id": "e9633958-8503-4c8a-bf75-e31062182dd1",
   "metadata": {},
   "source": [
    "## Getting Data"
   ]
  },
  {
   "cell_type": "code",
   "execution_count": null,
   "id": "db050055-b71c-4497-a16f-4143a41d7268",
   "metadata": {},
   "outputs": [],
   "source": [
    "import pooch"
   ]
  },
  {
   "cell_type": "code",
   "execution_count": null,
   "id": "52ed92bc-23a4-45b3-9b99-245c1ba3b4b1",
   "metadata": {},
   "outputs": [],
   "source": [
    "data_folder = './data'\n",
    "if not os.path.exists(data_folder):\n",
    "    os.makedirs(data_folder)"
   ]
  },
  {
   "cell_type": "code",
   "execution_count": null,
   "id": "ce0268b9-552d-4e38-8088-2d09aa6cdce4",
   "metadata": {},
   "outputs": [],
   "source": [
    "unzipped_files = pooch.retrieve(\n",
    "    url=\"doi:10.5281/zenodo.3362976/B2.zip\",\n",
    "    known_hash=\"md5:a263701011da9d289eaa35a39a225577\",\n",
    "    processor=pooch.Unzip(extract_dir=\"data\"),\n",
    "    path=f\".\"\n",
    ")\n"
   ]
  },
  {
   "cell_type": "markdown",
   "id": "60d4834a-b0a8-4079-bb41-4350c6223d7e",
   "metadata": {},
   "source": [
    "## Select file of interest"
   ]
  },
  {
   "cell_type": "code",
   "execution_count": null,
   "id": "b8fcf9a9-9b28-444f-a28e-873aa4ec3822",
   "metadata": {},
   "outputs": [],
   "source": [
    "file_to_process = \"data/B2--W00026--P00001--Z00000--T00000--dapi.tif\""
   ]
  },
  {
   "cell_type": "markdown",
   "id": "f23e083c-6036-40e5-a426-912b3b224217",
   "metadata": {},
   "source": [
    "## Open and read file"
   ]
  },
  {
   "cell_type": "code",
   "execution_count": null,
   "id": "424de71c-5478-4592-8de3-b134be1e3883",
   "metadata": {},
   "outputs": [],
   "source": [
    "from skimage.io import imread"
   ]
  },
  {
   "cell_type": "code",
   "execution_count": null,
   "id": "83e52cda-4e9b-4570-96f4-c7d1ee0fd2ab",
   "metadata": {},
   "outputs": [],
   "source": [
    "img = imread(file_to_process)"
   ]
  },
  {
   "cell_type": "markdown",
   "id": "8c05227f-7f28-4522-b1bf-bbdca5a93743",
   "metadata": {},
   "source": [
    "## Get metadata"
   ]
  },
  {
   "cell_type": "code",
   "execution_count": null,
   "id": "95432b4d-283a-436c-9005-2a1a0aecc1d7",
   "metadata": {},
   "outputs": [],
   "source": [
    "img.dtype"
   ]
  },
  {
   "cell_type": "code",
   "execution_count": null,
   "id": "87e51b1f-fcd9-497e-925e-0d682d3c3c7b",
   "metadata": {},
   "outputs": [],
   "source": [
    "img.shape"
   ]
  },
  {
   "cell_type": "code",
   "execution_count": null,
   "id": "6ac67787-095a-40c8-a2c6-a667d8e8e3de",
   "metadata": {},
   "outputs": [],
   "source": [
    "img"
   ]
  },
  {
   "cell_type": "markdown",
   "id": "fd70bf89-8469-4c0c-84c1-c1cfd2ceca4a",
   "metadata": {},
   "source": [
    "## Visualize image"
   ]
  },
  {
   "cell_type": "code",
   "execution_count": null,
   "id": "dd96b84e-f22b-4823-81ac-02db858872c9",
   "metadata": {},
   "outputs": [],
   "source": [
    "import matplotlib.pyplot as plt"
   ]
  },
  {
   "cell_type": "code",
   "execution_count": null,
   "id": "34a09484-4570-471f-bdaf-9b0f2bb71d3c",
   "metadata": {},
   "outputs": [],
   "source": [
    "plt.figure(figsize=(7,7))\n",
    "plt.imshow(img, interpolation='none', cmap='gray')\n",
    "plt.show()"
   ]
  },
  {
   "cell_type": "markdown",
   "id": "466f42a7-7fdc-4a45-a9c2-446f0baab9ef",
   "metadata": {},
   "source": [
    "## Apply Histogram equalization algorithm"
   ]
  },
  {
   "cell_type": "code",
   "execution_count": null,
   "id": "fed27d0e-f930-4cc7-ae7a-586210a74380",
   "metadata": {},
   "outputs": [],
   "source": [
    "import skimage"
   ]
  },
  {
   "cell_type": "code",
   "execution_count": null,
   "id": "24f66117-25de-4fcc-976e-15388952351d",
   "metadata": {},
   "outputs": [],
   "source": [
    "img_eq = skimage.exposure.equalize_adapthist(img)\n",
    "img_eq = skimage.util.img_as_uint(img_eq)"
   ]
  },
  {
   "cell_type": "markdown",
   "id": "f539d7a7-3eaf-4340-b7c4-b8e9104b00e6",
   "metadata": {},
   "source": [
    "## Visualize normalized image"
   ]
  },
  {
   "cell_type": "code",
   "execution_count": null,
   "id": "3c3b5c32-0872-49c3-8476-d8a0f80f8926",
   "metadata": {},
   "outputs": [],
   "source": [
    "plt.figure(figsize=(7,7))\n",
    "plt.imshow(img_eq, interpolation='none', cmap='gray')\n",
    "plt.show()"
   ]
  },
  {
   "cell_type": "markdown",
   "id": "001e83ff-66af-4518-a77e-faa8bc2a5e99",
   "metadata": {},
   "source": [
    "## Define function to normalize and visualize images "
   ]
  },
  {
   "cell_type": "code",
   "execution_count": null,
   "id": "a3e6f3c5-3761-43dd-807f-11c1f73ed829",
   "metadata": {},
   "outputs": [],
   "source": [
    "def visualize(img):\n",
    "    img_eq = skimage.exposure.equalize_adapthist(img)\n",
    "    img_eq = skimage.util.img_as_uint(img_eq)\n",
    "    plt.figure(figsize=(7,7))\n",
    "    plt.imshow(img_eq, interpolation='none', cmap='gray')\n",
    "    plt.show()"
   ]
  },
  {
   "cell_type": "markdown",
   "id": "d1e4518f-e264-41c5-9d26-2dae1f550f6f",
   "metadata": {},
   "source": [
    "## Image Filtering\n",
    "Specific features of interest (e.g., edges, noise) can be enhanced or suppressed by using an image filter."
   ]
  },
  {
   "cell_type": "code",
   "execution_count": null,
   "id": "3d9b678b-f24a-428c-a41e-8690348d774d",
   "metadata": {},
   "outputs": [],
   "source": [
    "import scipy.ndimage as ndi"
   ]
  },
  {
   "cell_type": "code",
   "execution_count": null,
   "id": "f7de4e52-f53e-4a5a-95c1-000eaa1219f2",
   "metadata": {},
   "outputs": [],
   "source": [
    "sigma = 3.0 "
   ]
  },
  {
   "cell_type": "code",
   "execution_count": null,
   "id": "54646b5e-9f65-4181-82ea-7084af78fe7d",
   "metadata": {},
   "outputs": [],
   "source": [
    "img_filtered = ndi.gaussian_filter(img, sigma)"
   ]
  },
  {
   "cell_type": "markdown",
   "id": "10c2e150-e12f-41e6-8b19-db19b99ffcc0",
   "metadata": {},
   "source": [
    "## Visualize filtered image"
   ]
  },
  {
   "cell_type": "code",
   "execution_count": null,
   "id": "48bbf945-671e-4a9c-b96f-af9e19c79dab",
   "metadata": {},
   "outputs": [],
   "source": [
    "visualize(img_filtered)"
   ]
  },
  {
   "cell_type": "markdown",
   "id": "5280d3e8-8d5a-47a1-9009-9093390dd647",
   "metadata": {},
   "source": [
    "## Segmentation\n",
    "Objects of interest like nuclei can be segmented by using a smoothed image and thresholding. Moreover, the results can be overlayed with the original image."
   ]
  },
  {
   "cell_type": "code",
   "execution_count": null,
   "id": "4cb2169f-802d-4822-ab1d-47553232637f",
   "metadata": {},
   "outputs": [],
   "source": [
    "import numpy as np"
   ]
  },
  {
   "cell_type": "code",
   "execution_count": null,
   "id": "b20ca519-2f15-46ed-baca-34c48373c0b8",
   "metadata": {},
   "outputs": [],
   "source": [
    "img = np.squeeze(img_filtered)\n",
    "\n",
    "th = skimage.filters.threshold_otsu(img_filtered)\n",
    "img_segmented = img_filtered > th"
   ]
  },
  {
   "cell_type": "code",
   "execution_count": null,
   "id": "b745eeeb-9a92-460a-89dc-4b04b680de19",
   "metadata": {},
   "outputs": [],
   "source": [
    "visualize(img_segmented)"
   ]
  },
  {
   "cell_type": "code",
   "execution_count": null,
   "id": "292af508-151e-45f2-a014-eb369f99f284",
   "metadata": {},
   "outputs": [],
   "source": [
    "from skimage.measure import label\n",
    "from PIL import Image"
   ]
  },
  {
   "cell_type": "code",
   "execution_count": null,
   "id": "02b71c7c-2926-4764-b999-0f15658ae82f",
   "metadata": {},
   "outputs": [],
   "source": [
    "img_label = label(img_segmented)\n",
    "img_label = skimage.util.img_as_uint(img_label)"
   ]
  },
  {
   "cell_type": "code",
   "execution_count": null,
   "id": "bb6c1e5e-201a-4e9a-8372-64b3e988a8f2",
   "metadata": {},
   "outputs": [],
   "source": [
    "visualize(img_label)"
   ]
  },
  {
   "cell_type": "markdown",
   "id": "7488081d-2c75-4ab2-b298-963413ec01f4",
   "metadata": {},
   "source": [
    "## Overlay images"
   ]
  },
  {
   "cell_type": "code",
   "execution_count": null,
   "id": "29cdfccf-2db9-4f35-814b-99f0e58bbd97",
   "metadata": {},
   "outputs": [],
   "source": [
    "import numpy as np\n",
    "import skimage.morphology as morph\n",
    "import matplotlib"
   ]
  },
  {
   "cell_type": "markdown",
   "id": "ace6ce73-68b8-4537-a203-d7fbc1dfbe9e",
   "metadata": {},
   "source": [
    "## Define functions \n",
    "\n",
    "### get_rgb8_copy\n",
    "\n",
    "This function ensures that the input image:\n",
    "- Is always an RGB image (3 channels)\n",
    "- Has a uint8 data type\n",
    "- Can accept grayscale, RGB, or RGBA inputs in various formats (float, uint16, or uint8)"
   ]
  },
  {
   "cell_type": "code",
   "execution_count": null,
   "id": "c761604a-5054-4106-8481-738a85c9ab4c",
   "metadata": {},
   "outputs": [],
   "source": [
    "def get_rgb8_copy(img):\n",
    "    # Ensure the image is queezed\n",
    "    img = np.squeeze(img)\n",
    "    # Check that the image has a valid shape\n",
    "    assert img.ndim == 2 or (img.ndim == 3 and img.shape[-1] in (3, 4))\n",
    "    # Convert the pixel values to np.uint8 if necessary\n",
    "    if str(img.dtype).startswith('float'):\n",
    "        img = np.round(img * 255).astype(np.uint8)\n",
    "    elif img.dtype == np.uint16:\n",
    "        img = (img // 256).astype(np.uint8)\n",
    "    elif img.dtype != np.uint8:\n",
    "        raise ValueError(f'unknown dtype: {img.dtype}')\n",
    "    # Ensure the image has 3 channels (RGB)\n",
    "    if img.ndim == 2:\n",
    "        result = np.dstack([img] * 3).copy()\n",
    "    else:\n",
    "        result = img[:, :, :3].copy()\n",
    "    # return the final output as an 8-bit (uint8) image\n",
    "    assert result.dtype == np.uint8, result.dtype\n",
    "    return result"
   ]
  },
  {
   "cell_type": "markdown",
   "id": "9c07e8a6-58c4-4010-ba9a-86721f738f08",
   "metadata": {},
   "source": [
    "### Segmentation contour\n",
    "\n",
    "- Input:\n",
    "  - img: Original image (grayscale or color).\n",
    "  - labels: Segmentation mask (integer labels for regions).\n",
    "  - linewidth: Thickness of the contour lines.\n",
    "  - color: Contour color (default: red).\n",
    "  - label_color: Label text color (default: yellow).\n",
    "\n",
    "\n",
    "- Output:\n",
    "  - Image with segmented contours drawn in the specified color.\n",
    "  - Overlay labels at region centroids."
   ]
  },
  {
   "cell_type": "code",
   "execution_count": null,
   "id": "5a845954-5e58-468f-a060-167ff4b64e70",
   "metadata": {},
   "outputs": [],
   "source": [
    "def seg_contour(img, labels, linewidth, color='#ff0000', label_color='#ffff00'):\n",
    "    # Prepare the Image in RGB Format (uint8)\n",
    "    result = get_rgb8_copy(img)\n",
    "    # Define Structuring Elements for Contours\n",
    "    selem_inner = morph.disk(linewidth - linewidth // 2)\n",
    "    selem_outer = morph.disk(linewidth // 2)\n",
    "    # Convert Color to RGB Values (0-255 Scale)\n",
    "    color_rgb = np.multiply(255, matplotlib.colors.to_rgb(color))\n",
    "\n",
    "    # Loop Over Unique Labels (Ignoring Background label=0)\n",
    "    for label in np.unique(labels):\n",
    "        if label > 0:\n",
    "            cc = (labels == label)\n",
    "            # Extract Inner and Outer Contours\n",
    "            inner_contour = np.logical_xor(cc, morph.binary_erosion(cc, selem_inner))\n",
    "            outer_contour = np.logical_and(np.logical_not(labels), morph.binary_dilation(cc, selem_outer))\n",
    "            # Overlay Contour on Image\n",
    "            bd = np.logical_or(inner_contour, outer_contour)\n",
    "            for i in range(3):\n",
    "                result[:, :, i][bd] = color_rgb[i]\n",
    "\n",
    "    # Plot the Image with Contours\n",
    "    fig = plt.figure(figsize=np.divide(img.shape[:2][::-1], 100), dpi=100)\n",
    "    ax = fig.add_axes([0, 0, 1, 1])\n",
    "    ax.axis('off')\n",
    "    ax.imshow(result)\n",
    "    # Overlay Labels at Centroids\n",
    "    for reg in skimage.measure.regionprops(labels):\n",
    "        ax.text(reg.centroid[1], reg.centroid[0], str(reg.label), color=label_color)"
   ]
  },
  {
   "cell_type": "code",
   "execution_count": null,
   "id": "c0c945d4-7a95-45b3-a136-5a500bbbfe02",
   "metadata": {},
   "outputs": [],
   "source": [
    "seg_contour(img_eq, img_label, linewidth=2, color='red', label_color=\"yellow\")"
   ]
  },
  {
   "cell_type": "code",
   "execution_count": null,
   "id": "bcdfdd7b-6525-4cf0-bc99-96870e3182f3",
   "metadata": {},
   "outputs": [],
   "source": []
  }
 ],
 "metadata": {
  "kernelspec": {
   "display_name": "Python [conda env:base] *",
   "language": "python",
   "name": "conda-base-py"
  },
  "language_info": {
   "codemirror_mode": {
    "name": "ipython",
    "version": 3
   },
   "file_extension": ".py",
   "mimetype": "text/x-python",
   "name": "python",
   "nbconvert_exporter": "python",
   "pygments_lexer": "ipython3",
   "version": "3.11.9"
  }
 },
 "nbformat": 4,
 "nbformat_minor": 5
}
